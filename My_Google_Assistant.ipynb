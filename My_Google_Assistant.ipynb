{
  "nbformat": 4,
  "nbformat_minor": 0,
  "metadata": {
    "colab": {
      "provenance": []
    },
    "kernelspec": {
      "name": "python3",
      "display_name": "Python 3"
    },
    "language_info": {
      "name": "python"
    }
  },
  "cells": [
    {
      "cell_type": "code",
      "execution_count": null,
      "metadata": {
        "id": "esgL-JLJ1N1f"
      },
      "outputs": [],
      "source": []
    },
    {
      "cell_type": "markdown",
      "source": [
        "#steps todo\n",
        "1.   Give input , Some Questions\n",
        "2.   Based on questions, decide what to do\n",
        "      * on device operation\n",
        "      * Who are you kinds of message?\n",
        "      * Asking some questions?\n",
        "3.   Give proper answer for responce\n",
        "4.   If the question is related to search internet, get the answer from google Gemini model\n",
        "5.   If you got an answer, then plz convert it to Text to Speech (gTTS)\n",
        "\n"
      ],
      "metadata": {
        "id": "DR99nSsn1Uia"
      }
    },
    {
      "cell_type": "markdown",
      "source": [],
      "metadata": {
        "id": "je5GEAD03Un0"
      }
    },
    {
      "cell_type": "code",
      "source": [
        "!pip install -q -U google-generativeai\n",
        "!pip install gTTS"
      ],
      "metadata": {
        "id": "wfr0tbBRAZ_k"
      },
      "execution_count": null,
      "outputs": []
    },
    {
      "cell_type": "code",
      "source": [
        "import pathlib\n",
        "import textwrap\n",
        "\n",
        "import google.generativeai as genai\n",
        "from gtts import gTTS\n",
        "\n",
        "from IPython.display import display\n",
        "from IPython.display import Markdown\n",
        "from IPython.display import Audio, display\n",
        "\n",
        "\n",
        "def to_markdown(text):\n",
        "  text = text.replace('•', '  *')\n",
        "  return Markdown(textwrap.indent(text, '> ', predicate=lambda _: True))\n",
        "\n",
        "genai.configure(api_key=GOOGLE_API_KEY)"
      ],
      "metadata": {
        "id": "N2NR4xRzASVk"
      },
      "execution_count": null,
      "outputs": []
    },
    {
      "cell_type": "code",
      "source": [
        "from google.colab import userdata\n",
        "GOOGLE_API_KEY = userdata.get('GOOGLE_API_KEY')\n",
        "model = genai.GenerativeModel('gemini-pro')"
      ],
      "metadata": {
        "id": "6svbMWMT_oYS"
      },
      "execution_count": null,
      "outputs": []
    },
    {
      "cell_type": "code",
      "source": [
        "#step 01\n",
        "def ask_question(name):\n",
        "  ques = \"Hey \"+name+\", What do you want?\"\n",
        "  ques = input(ques)\n",
        "  return ques"
      ],
      "metadata": {
        "id": "8Xilt8Tx10_E"
      },
      "execution_count": null,
      "outputs": []
    },
    {
      "cell_type": "code",
      "source": [
        "ask_question(\"Kamal\")"
      ],
      "metadata": {
        "id": "rXQvZu7a4Koz"
      },
      "execution_count": null,
      "outputs": []
    },
    {
      "cell_type": "code",
      "source": [
        "#step 02\n",
        "def classify_questions(ques):\n",
        "  goahead_with_web_search = False\n",
        "  device_lst = ['alarm','reminder','message','call']\n",
        "  personal_lst = ['who are you?','who created you']\n",
        "\n",
        "  device = False\n",
        "  for i in device_lst:\n",
        "    if i in ques:\n",
        "      device = True\n",
        "\n",
        "  personal_question = False\n",
        "  for i in personal_lst:\n",
        "    if i in ques.lower():\n",
        "      personal_question = True\n",
        "\n",
        "  if personal_question:\n",
        "    print(\"Hey I am a personal assistant created by Uditha\")\n",
        "\n",
        "  if device:\n",
        "    print(\"This question is related to device things, which is not supported in our google assistant!!\")\n",
        "\n",
        "  if device:\n",
        "    goahead_with_web_search = False\n",
        "  elif personal_question:\n",
        "    goahead_with_web_search = False\n",
        "  else:\n",
        "    goahead_with_web_search = True\n",
        "\n",
        "  return goahead_with_web_search"
      ],
      "metadata": {
        "id": "IQCy-3a-4p2i"
      },
      "execution_count": null,
      "outputs": []
    },
    {
      "cell_type": "code",
      "source": [
        "classify_questions(\"Who are you?\")"
      ],
      "metadata": {
        "colab": {
          "base_uri": "https://localhost:8080/"
        },
        "id": "epdI5pTW6t1n",
        "outputId": "04d31c2d-969b-4297-ab5b-2b683f6df3a3"
      },
      "execution_count": null,
      "outputs": [
        {
          "output_type": "stream",
          "name": "stdout",
          "text": [
            "Hey I am a personal assistant created by Uditha\n"
          ]
        },
        {
          "output_type": "execute_result",
          "data": {
            "text/plain": [
              "False"
            ]
          },
          "metadata": {},
          "execution_count": 15
        }
      ]
    },
    {
      "cell_type": "code",
      "source": [
        "#Start searching with google gemini"
      ],
      "metadata": {
        "id": "DhiTH6fy-iso"
      },
      "execution_count": null,
      "outputs": []
    },
    {
      "cell_type": "code",
      "source": [
        "def ask_gemini(ques):\n",
        "  modified_promt = \"give me answer to this question\" + ques + 'in maximum of 50 words'\n",
        "  response = model.generate_content(modified_promt)\n",
        "  #get formated responce\n",
        "  to_markdown(response.text)\n",
        "  #get responce\n",
        "  return response.text"
      ],
      "metadata": {
        "id": "xCDzWNkOE_yl"
      },
      "execution_count": null,
      "outputs": []
    },
    {
      "cell_type": "code",
      "source": [
        "def speak(answer):\n",
        "  tts = gTTS(answer)\n",
        "  tts.save('audio.mp3')\n",
        "  display(Audio('audio.mp3', autoplay=True))"
      ],
      "metadata": {
        "id": "DpxJRjKLSECj"
      },
      "execution_count": null,
      "outputs": []
    },
    {
      "cell_type": "code",
      "source": [
        "#finalize function\n",
        "have_any_other_ques = 'y'\n",
        "name = ''\n",
        "\n",
        "while have_any_other_ques == 'y':\n",
        "\n",
        "  if name == '':\n",
        "    name = input(\"Hey, What is your name?\")\n",
        "\n",
        "  q = ask_question(name)\n",
        "\n",
        "  go_ahead = classify_questions(q)\n",
        "  answer = ''\n",
        "\n",
        "  if go_ahead == True:\n",
        "    answer = ask_gemini(q)\n",
        "    print(answer)\n",
        "    speak(answer)\n",
        "\n",
        "  have_any_other_ques = input(\"Do you have any other questions??\")"
      ],
      "metadata": {
        "id": "N5EwKDsNGDPC"
      },
      "execution_count": null,
      "outputs": []
    }
  ]
}